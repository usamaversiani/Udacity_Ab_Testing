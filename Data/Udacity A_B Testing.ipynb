{
 "cells": [
  {
   "cell_type": "markdown",
   "metadata": {
    "id": "leEXTxM8f9q7"
   },
   "source": [
    "## Objective:\n",
    "Determine if the new website design (treatment group) leads to a higher conversion rate compared to the old design (control group)."
   ]
  },
  {
   "cell_type": "markdown",
   "metadata": {
    "id": "oi87ZnJcgKAm"
   },
   "source": [
    "## 1. Import Libraries & Load Data"
   ]
  },
  {
   "cell_type": "code",
   "execution_count": 13,
   "metadata": {
    "colab": {
     "base_uri": "https://localhost:8080/"
    },
    "executionInfo": {
     "elapsed": 447,
     "status": "ok",
     "timestamp": 1745228343305,
     "user": {
      "displayName": "Usama Versiani",
      "userId": "15766572443719872235"
     },
     "user_tz": -240
    },
    "id": "K2c6qftzftR5",
    "outputId": "4268826d-b31a-4713-c321-64ff2ad35ccb"
   },
   "outputs": [
    {
     "name": "stdout",
     "output_type": "stream",
     "text": [
      "   user_id                   timestamp      group landing_page  converted\n",
      "0   851104  2017-01-21 22:11:48.556739    control     old_page          0\n",
      "1   804228  2017-01-12 08:01:45.159739    control     old_page          0\n",
      "2   661590  2017-01-11 16:55:06.154213  treatment     new_page          0\n",
      "3   853541  2017-01-08 18:28:03.143765  treatment     new_page          0\n",
      "4   864975  2017-01-21 01:52:26.210827    control     old_page          1\n",
      "<class 'pandas.core.frame.DataFrame'>\n",
      "RangeIndex: 294478 entries, 0 to 294477\n",
      "Data columns (total 5 columns):\n",
      " #   Column        Non-Null Count   Dtype \n",
      "---  ------        --------------   ----- \n",
      " 0   user_id       294478 non-null  int64 \n",
      " 1   timestamp     294478 non-null  object\n",
      " 2   group         294478 non-null  object\n",
      " 3   landing_page  294478 non-null  object\n",
      " 4   converted     294478 non-null  int64 \n",
      "dtypes: int64(2), object(3)\n",
      "memory usage: 11.2+ MB\n",
      "None\n"
     ]
    }
   ],
   "source": [
    "import pandas as pd\n",
    "import numpy as np\n",
    "import matplotlib.pyplot as plt\n",
    "import seaborn as sns\n",
    "from scipy import stats\n",
    "import statsmodels.api as sm\n",
    "\n",
    "# Load the dataset\n",
    "file_path = 'ab_data.csv'\n",
    "df = pd.read_csv(file_path)\n",
    "\n",
    "#Initial Observation\n",
    "print(df.head())\n",
    "print(df.info())"
   ]
  },
  {
   "cell_type": "markdown",
   "metadata": {
    "id": "JkG1ec9xhMnl"
   },
   "source": [
    "## 2. Data Cleaning"
   ]
  },
  {
   "cell_type": "markdown",
   "metadata": {
    "id": "5yCz-hZJhWcd"
   },
   "source": [
    "###Remove Mismatched Rows\n",
    "We will start with removing mismatched rows to ensure that users in the treatment group received the new page and those in the control group received the old page."
   ]
  },
  {
   "cell_type": "code",
   "execution_count": 3,
   "metadata": {
    "colab": {
     "base_uri": "https://localhost:8080/"
    },
    "executionInfo": {
     "elapsed": 193,
     "status": "ok",
     "timestamp": 1745228459432,
     "user": {
      "displayName": "Usama Versiani",
      "userId": "15766572443719872235"
     },
     "user_tz": -240
    },
    "id": "UPz1MfSJhSKz",
    "outputId": "5bda1ded-411a-4515-b5b6-c8dbb3c3a4bd"
   },
   "outputs": [
    {
     "ename": "NameError",
     "evalue": "name 'df' is not defined",
     "output_type": "error",
     "traceback": [
      "\u001b[1;31m---------------------------------------------------------------------------\u001b[0m",
      "\u001b[1;31mNameError\u001b[0m                                 Traceback (most recent call last)",
      "Cell \u001b[1;32mIn[3], line 2\u001b[0m\n\u001b[0;32m      1\u001b[0m \u001b[38;5;66;03m# Identify mismatched rows\u001b[39;00m\n\u001b[1;32m----> 2\u001b[0m mismatched \u001b[38;5;241m=\u001b[39m df[\n\u001b[0;32m      3\u001b[0m     ((df[\u001b[38;5;124m'\u001b[39m\u001b[38;5;124mgroup\u001b[39m\u001b[38;5;124m'\u001b[39m] \u001b[38;5;241m==\u001b[39m \u001b[38;5;124m'\u001b[39m\u001b[38;5;124mtreatment\u001b[39m\u001b[38;5;124m'\u001b[39m) \u001b[38;5;241m&\u001b[39m (df[\u001b[38;5;124m'\u001b[39m\u001b[38;5;124mlanding_page\u001b[39m\u001b[38;5;124m'\u001b[39m] \u001b[38;5;241m!=\u001b[39m \u001b[38;5;124m'\u001b[39m\u001b[38;5;124mnew_page\u001b[39m\u001b[38;5;124m'\u001b[39m)) \u001b[38;5;241m|\u001b[39m\n\u001b[0;32m      4\u001b[0m     ((df[\u001b[38;5;124m'\u001b[39m\u001b[38;5;124mgroup\u001b[39m\u001b[38;5;124m'\u001b[39m] \u001b[38;5;241m==\u001b[39m \u001b[38;5;124m'\u001b[39m\u001b[38;5;124mcontrol\u001b[39m\u001b[38;5;124m'\u001b[39m) \u001b[38;5;241m&\u001b[39m (df[\u001b[38;5;124m'\u001b[39m\u001b[38;5;124mlanding_page\u001b[39m\u001b[38;5;124m'\u001b[39m] \u001b[38;5;241m!=\u001b[39m \u001b[38;5;124m'\u001b[39m\u001b[38;5;124mold_page\u001b[39m\u001b[38;5;124m'\u001b[39m))\n\u001b[0;32m      5\u001b[0m ]\n\u001b[0;32m      6\u001b[0m \u001b[38;5;66;03m# Remove mismatched rows\u001b[39;00m\n\u001b[0;32m      7\u001b[0m df_clean \u001b[38;5;241m=\u001b[39m df\u001b[38;5;241m.\u001b[39mdrop(mismatched\u001b[38;5;241m.\u001b[39mindex)\n",
      "\u001b[1;31mNameError\u001b[0m: name 'df' is not defined"
     ]
    }
   ],
   "source": [
    "# Identify mismatched rows\n",
    "mismatched = df[\n",
    "    ((df['group'] == 'treatment') & (df['landing_page'] != 'new_page')) |\n",
    "    ((df['group'] == 'control') & (df['landing_page'] != 'old_page'))\n",
    "]\n",
    "# Remove mismatched rows\n",
    "df_clean = df.drop(mismatched.index)\n",
    "print(df_clean.info())"
   ]
  },
  {
   "cell_type": "markdown",
   "metadata": {
    "id": "C5LJ4Fqoh4_N"
   },
   "source": [
    "### Remove Duplicate Users\n",
    "Next, we will remove duplicated user entries to ensure each row represents a unique user"
   ]
  },
  {
   "cell_type": "code",
   "execution_count": 18,
   "metadata": {
    "colab": {
     "base_uri": "https://localhost:8080/"
    },
    "collapsed": true,
    "executionInfo": {
     "elapsed": 166,
     "status": "ok",
     "timestamp": 1745228463588,
     "user": {
      "displayName": "Usama Versiani",
      "userId": "15766572443719872235"
     },
     "user_tz": -240
    },
    "id": "ovmrqADTiGDl",
    "jupyter": {
     "outputs_hidden": true
    },
    "outputId": "cbd9c556-7773-49b2-954b-4ad4ec11ba17"
   },
   "outputs": [
    {
     "name": "stdout",
     "output_type": "stream",
     "text": [
      "<class 'pandas.core.frame.DataFrame'>\n",
      "Index: 290584 entries, 0 to 294477\n",
      "Data columns (total 5 columns):\n",
      " #   Column        Non-Null Count   Dtype \n",
      "---  ------        --------------   ----- \n",
      " 0   user_id       290584 non-null  int64 \n",
      " 1   timestamp     290584 non-null  object\n",
      " 2   group         290584 non-null  object\n",
      " 3   landing_page  290584 non-null  object\n",
      " 4   converted     290584 non-null  int64 \n",
      "dtypes: int64(2), object(3)\n",
      "memory usage: 13.3+ MB\n",
      "None\n"
     ]
    }
   ],
   "source": [
    "# Check for duplicate users\n",
    "duplicate_users = df_clean[df_clean.duplicated('user_id')]\n",
    "# Remove duplicate users\n",
    "df_clean = df_clean.drop(duplicate_users.index)\n",
    "print(df_clean.info())"
   ]
  },
  {
   "cell_type": "markdown",
   "metadata": {
    "id": "ycr4v4dvlkeN"
   },
   "source": [
    "## 3. Exploratory Data Analysis (EDA)"
   ]
  },
  {
   "cell_type": "markdown",
   "metadata": {
    "id": "KAr-GH0rl1RX"
   },
   "source": [
    "Let's analyse the conversion rate statistics"
   ]
  },
  {
   "cell_type": "code",
   "execution_count": 20,
   "metadata": {
    "colab": {
     "base_uri": "https://localhost:8080/"
    },
    "executionInfo": {
     "elapsed": 34,
     "status": "ok",
     "timestamp": 1745228517222,
     "user": {
      "displayName": "Usama Versiani",
      "userId": "15766572443719872235"
     },
     "user_tz": -240
    },
    "id": "PAD9VSxoluHv",
    "outputId": "7768cffe-0ef6-4a24-ee10-f953ac58e6c0"
   },
   "outputs": [
    {
     "name": "stdout",
     "output_type": "stream",
     "text": [
      "Overall coversion rate is:  0.11959708724499628\n",
      "group\n",
      "control      0.120386\n",
      "treatment    0.118808\n",
      "Name: converted, dtype: float64\n"
     ]
    }
   ],
   "source": [
    "# Overall conversion rate\n",
    "overall_conversion = df_clean['converted'].mean()\n",
    "# Conversion rate by group\n",
    "conversion_rates = df_clean.groupby('group')['converted'].mean()\n",
    "print(\"Overall coversion rate is: \", overall_conversion)\n",
    "print(conversion_rates)"
   ]
  },
  {
   "cell_type": "markdown",
   "metadata": {
    "id": "icZdM7c2mOXh"
   },
   "source": [
    "Let's visualise the conversion rates by group"
   ]
  },
  {
   "cell_type": "code",
   "execution_count": 12,
   "metadata": {
    "colab": {
     "base_uri": "https://localhost:8080/",
     "height": 472
    },
    "collapsed": true,
    "executionInfo": {
     "elapsed": 765,
     "status": "ok",
     "timestamp": 1745226381544,
     "user": {
      "displayName": "Usama Versiani",
      "userId": "15766572443719872235"
     },
     "user_tz": -240
    },
    "id": "8h_nwcHsmRcp",
    "jupyter": {
     "outputs_hidden": true
    },
    "outputId": "64ff4f0d-6d3a-410d-a815-c67385136768"
   },
   "outputs": [
    {
     "data": {
      "image/png": "[encoded data removed]",
      "text/plain": [
       "<Figure size 640x480 with 1 Axes>"
      ]
     },
     "metadata": {},
     "output_type": "display_data"
    }
   ],
   "source": [
    "sns.barplot(x=conversion_rates.index, y=conversion_rates.values)\n",
    "plt.title('Conversion Rate by Group')\n",
    "plt.ylabel('Conversion Rate')\n",
    "plt.show()\n"
   ]
  },
  {
   "cell_type": "markdown",
   "metadata": {
    "id": "TEIionHfnI2E"
   },
   "source": [
    "## 4. Hypothesis Testing\n",
    "\n",
    "**Null Hypothesis (H₀):** There is no difference in conversion rates between the control and treatment groups.\n",
    "\n",
    "**Alternative Hypothesis (H₁):** There is a significant difference in conversion rates between the control and treatment groups.\n",
    "\n",
    "We'll perform a Z-test"
   ]
  },
  {
   "cell_type": "code",
   "execution_count": 13,
   "metadata": {
    "colab": {
     "base_uri": "https://localhost:8080/"
    },
    "executionInfo": {
     "elapsed": 119,
     "status": "ok",
     "timestamp": 1745226995420,
     "user": {
      "displayName": "Usama Versiani",
      "userId": "15766572443719872235"
     },
     "user_tz": -240
    },
    "id": "qUkIm2tgoBQp",
    "outputId": "d7624224-04a1-40b6-b2f4-4c0d64ca654b"
   },
   "outputs": [
    {
     "name": "stdout",
     "output_type": "stream",
     "text": [
      "Z-score: -1.3116075339133115\n",
      "P-value: 0.18965258971881804\n"
     ]
    }
   ],
   "source": [
    "# Number of users in each group\n",
    "n_control = df_clean[df_clean['group'] == 'control'].shape[0]\n",
    "n_treatment = df_clean[df_clean['group'] == 'treatment'].shape[0]\n",
    "\n",
    "# Number of conversions in each group\n",
    "conversions_control = df_clean[(df_clean['group'] == 'control') & (df_clean['converted'] == 1)].shape[0]\n",
    "conversions_treatment = df_clean[(df_clean['group'] == 'treatment') & (df_clean['converted'] == 1)].shape[0]\n",
    "\n",
    "# Calculating the proportion of conversions in each group.\n",
    "p_control = conversions_control / n_control\n",
    "p_treatment = conversions_treatment / n_treatment\n",
    "\n",
    "# Pooled conversion rate\n",
    "p_pool = (conversions_control + conversions_treatment) / (n_control + n_treatment)\n",
    "\n",
    "# Standard error\n",
    "se = np.sqrt(p_pool * (1 - p_pool) * (1/n_control + 1/n_treatment))\n",
    "\n",
    "# Z-score\n",
    "z_score = (p_treatment - p_control) / se\n",
    "\n",
    "# P-value\n",
    "p_value = stats.norm.sf(abs(z_score)) * 2  # Multiply by 2 for a two-tailed test, since we’re testing for any difference, not just an increase or decrease.\n",
    "\n",
    "print(f'Z-score: {z_score}')\n",
    "print(f'P-value: {p_value}')\n"
   ]
  },
  {
   "cell_type": "markdown",
   "metadata": {
    "id": "g1MEc85eo6tw"
   },
   "source": [
    "## 5. Conclusion\n",
    "Since the p-value is >= 0.05, we fail to reject the null hypothesis, indicating no significant difference in conversion rates."
   ]
  }
 ],
 "metadata": {
  "colab": {
   "authorship_tag": "ABX9TyM/9Uyr85nNp0O6cwvE7/0N",
   "provenance": []
  },
  "kernelspec": {
   "display_name": "Python [conda env:base] *",
   "language": "python",
   "name": "conda-base-py"
  },
  "language_info": {
   "codemirror_mode": {
    "name": "ipython",
    "version": 3
   },
   "file_extension": ".py",
   "mimetype": "text/x-python",
   "name": "python",
   "nbconvert_exporter": "python",
   "pygments_lexer": "ipython3",
   "version": "3.12.7"
  }
 },
 "nbformat": 4,
 "nbformat_minor": 4
}
